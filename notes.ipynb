{
 "cells": [
  {
   "cell_type": "markdown",
   "metadata": {},
   "source": [
    "# **Notes for PYTEST**"
   ]
  },
  {
   "cell_type": "markdown",
   "metadata": {},
   "source": [
    "### **Fixtures**"
   ]
  },
  {
   "cell_type": "markdown",
   "metadata": {},
   "source": [
    "##### @pytest.fixture\n",
    "to prevent code redundancy in functions that basically do the same things\n"
   ]
  },
  {
   "cell_type": "markdown",
   "metadata": {},
   "source": [
    "### **Plugins**"
   ]
  },
  {
   "cell_type": "markdown",
   "metadata": {},
   "source": [
    "#### pytest-html\n",
    "to use create a report in html format, \n",
    "```python -m pytest --html=reports.html```"
   ]
  },
  {
   "cell_type": "markdown",
   "metadata": {},
   "source": [
    "#### pytest-cov\n",
    "\"cov\" stands for coverage, show the percentage of **product code** lines and branches exercise by unit test\n",
    "```python -m pytest --cov=stuff```\n",
    "</br>\n",
    "- high code coverage means that several code path are covered by test. Low code coverage means that there could be significant test gaps.\n",
    "- will report code coverage only for the Python modules in the stuff package. \n",
    "</br>\n",
    "</br>\n",
    "\n",
    "```python -m pytest --cov=stuff --cov-report html``` </br>\n",
    "to create reports after coverage test"
   ]
  },
  {
   "cell_type": "markdown",
   "metadata": {},
   "source": [
    "#### pytest-xdist\n",
    "allow pytest to do testing in parallel, ex: tests are ran accross three parallel threads ```python -m pytest -n 3```\n",
    "- the test cases will have to be independent, cannot share resource / data\n",
    "- distribute test execution across multiple machines using SSH or sockets."
   ]
  },
  {
   "cell_type": "markdown",
   "metadata": {},
   "source": [
    "#### pytest-bdd\n",
    "\n",
    "\n"
   ]
  }
 ],
 "metadata": {
  "language_info": {
   "name": "python"
  }
 },
 "nbformat": 4,
 "nbformat_minor": 2
}
